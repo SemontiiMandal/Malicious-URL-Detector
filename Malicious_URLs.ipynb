{
  "nbformat": 4,
  "nbformat_minor": 0,
  "metadata": {
    "colab": {
      "provenance": []
    },
    "kernelspec": {
      "name": "python3",
      "display_name": "Python 3"
    },
    "language_info": {
      "name": "python"
    },
    "gpuClass": "standard"
  },
  "cells": [
    {
      "cell_type": "code",
      "execution_count": null,
      "metadata": {
        "id": "bAtTcGvWoFuC"
      },
      "outputs": [],
      "source": [
        "import pandas as pd\n",
        "import numpy as np\n",
        "import random\n",
        "\n",
        "from sklearn.linear_model import LogisticRegression\n",
        "# Machine Learning Packages\n",
        "from sklearn.feature_extraction.text import CountVectorizer\n",
        "from sklearn.feature_extraction.text import TfidfVectorizer\n",
        "from sklearn.svm import SVC\n",
        "from sklearn.model_selection import train_test_split"
      ]
    },
    {
      "cell_type": "code",
      "source": [
        "ds = pd.read_csv('/content/malicious_phish.csv')\n",
        "urls_data = ds.sample(frac=1)"
      ],
      "metadata": {
        "id": "ayR90Hr7omqv"
      },
      "execution_count": null,
      "outputs": []
    },
    {
      "cell_type": "code",
      "source": [
        "urls_data.head()\n",
        "urls_data.tail()"
      ],
      "metadata": {
        "colab": {
          "base_uri": "https://localhost:8080/",
          "height": 206
        },
        "id": "ui0lnv94oxGI",
        "outputId": "c8711501-4652-4527-be94-25413f6fdcf1"
      },
      "execution_count": null,
      "outputs": [
        {
          "output_type": "execute_result",
          "data": {
            "text/plain": [
              "                                                      url        type\n",
              "453118  http://www.ijsbaanapeldoorn.nl/fotos-videos.ht...  defacement\n",
              "172234  ogj.com/articles/print/volume-104/issue-43/gen...      benign\n",
              "35409   brokencontrollers.com/big-bang-exhibition-at-m...      benign\n",
              "419148  http://bestblackhatforum.com/Thread-%E2%9D%B6%...      benign\n",
              "307041  aviationpros.com/press_release/10390359/new-we...      benign"
            ],
            "text/html": [
              "\n",
              "  <div id=\"df-0a52ad2d-687b-4c59-a0cb-ce27498b1f23\" class=\"colab-df-container\">\n",
              "    <div>\n",
              "<style scoped>\n",
              "    .dataframe tbody tr th:only-of-type {\n",
              "        vertical-align: middle;\n",
              "    }\n",
              "\n",
              "    .dataframe tbody tr th {\n",
              "        vertical-align: top;\n",
              "    }\n",
              "\n",
              "    .dataframe thead th {\n",
              "        text-align: right;\n",
              "    }\n",
              "</style>\n",
              "<table border=\"1\" class=\"dataframe\">\n",
              "  <thead>\n",
              "    <tr style=\"text-align: right;\">\n",
              "      <th></th>\n",
              "      <th>url</th>\n",
              "      <th>type</th>\n",
              "    </tr>\n",
              "  </thead>\n",
              "  <tbody>\n",
              "    <tr>\n",
              "      <th>453118</th>\n",
              "      <td>http://www.ijsbaanapeldoorn.nl/fotos-videos.ht...</td>\n",
              "      <td>defacement</td>\n",
              "    </tr>\n",
              "    <tr>\n",
              "      <th>172234</th>\n",
              "      <td>ogj.com/articles/print/volume-104/issue-43/gen...</td>\n",
              "      <td>benign</td>\n",
              "    </tr>\n",
              "    <tr>\n",
              "      <th>35409</th>\n",
              "      <td>brokencontrollers.com/big-bang-exhibition-at-m...</td>\n",
              "      <td>benign</td>\n",
              "    </tr>\n",
              "    <tr>\n",
              "      <th>419148</th>\n",
              "      <td>http://bestblackhatforum.com/Thread-%E2%9D%B6%...</td>\n",
              "      <td>benign</td>\n",
              "    </tr>\n",
              "    <tr>\n",
              "      <th>307041</th>\n",
              "      <td>aviationpros.com/press_release/10390359/new-we...</td>\n",
              "      <td>benign</td>\n",
              "    </tr>\n",
              "  </tbody>\n",
              "</table>\n",
              "</div>\n",
              "    <div class=\"colab-df-buttons\">\n",
              "\n",
              "  <div class=\"colab-df-container\">\n",
              "    <button class=\"colab-df-convert\" onclick=\"convertToInteractive('df-0a52ad2d-687b-4c59-a0cb-ce27498b1f23')\"\n",
              "            title=\"Convert this dataframe to an interactive table.\"\n",
              "            style=\"display:none;\">\n",
              "\n",
              "  <svg xmlns=\"http://www.w3.org/2000/svg\" height=\"24px\" viewBox=\"0 -960 960 960\">\n",
              "    <path d=\"M120-120v-720h720v720H120Zm60-500h600v-160H180v160Zm220 220h160v-160H400v160Zm0 220h160v-160H400v160ZM180-400h160v-160H180v160Zm440 0h160v-160H620v160ZM180-180h160v-160H180v160Zm440 0h160v-160H620v160Z\"/>\n",
              "  </svg>\n",
              "    </button>\n",
              "\n",
              "  <style>\n",
              "    .colab-df-container {\n",
              "      display:flex;\n",
              "      gap: 12px;\n",
              "    }\n",
              "\n",
              "    .colab-df-convert {\n",
              "      background-color: #E8F0FE;\n",
              "      border: none;\n",
              "      border-radius: 50%;\n",
              "      cursor: pointer;\n",
              "      display: none;\n",
              "      fill: #1967D2;\n",
              "      height: 32px;\n",
              "      padding: 0 0 0 0;\n",
              "      width: 32px;\n",
              "    }\n",
              "\n",
              "    .colab-df-convert:hover {\n",
              "      background-color: #E2EBFA;\n",
              "      box-shadow: 0px 1px 2px rgba(60, 64, 67, 0.3), 0px 1px 3px 1px rgba(60, 64, 67, 0.15);\n",
              "      fill: #174EA6;\n",
              "    }\n",
              "\n",
              "    .colab-df-buttons div {\n",
              "      margin-bottom: 4px;\n",
              "    }\n",
              "\n",
              "    [theme=dark] .colab-df-convert {\n",
              "      background-color: #3B4455;\n",
              "      fill: #D2E3FC;\n",
              "    }\n",
              "\n",
              "    [theme=dark] .colab-df-convert:hover {\n",
              "      background-color: #434B5C;\n",
              "      box-shadow: 0px 1px 3px 1px rgba(0, 0, 0, 0.15);\n",
              "      filter: drop-shadow(0px 1px 2px rgba(0, 0, 0, 0.3));\n",
              "      fill: #FFFFFF;\n",
              "    }\n",
              "  </style>\n",
              "\n",
              "    <script>\n",
              "      const buttonEl =\n",
              "        document.querySelector('#df-0a52ad2d-687b-4c59-a0cb-ce27498b1f23 button.colab-df-convert');\n",
              "      buttonEl.style.display =\n",
              "        google.colab.kernel.accessAllowed ? 'block' : 'none';\n",
              "\n",
              "      async function convertToInteractive(key) {\n",
              "        const element = document.querySelector('#df-0a52ad2d-687b-4c59-a0cb-ce27498b1f23');\n",
              "        const dataTable =\n",
              "          await google.colab.kernel.invokeFunction('convertToInteractive',\n",
              "                                                    [key], {});\n",
              "        if (!dataTable) return;\n",
              "\n",
              "        const docLinkHtml = 'Like what you see? Visit the ' +\n",
              "          '<a target=\"_blank\" href=https://colab.research.google.com/notebooks/data_table.ipynb>data table notebook</a>'\n",
              "          + ' to learn more about interactive tables.';\n",
              "        element.innerHTML = '';\n",
              "        dataTable['output_type'] = 'display_data';\n",
              "        await google.colab.output.renderOutput(dataTable, element);\n",
              "        const docLink = document.createElement('div');\n",
              "        docLink.innerHTML = docLinkHtml;\n",
              "        element.appendChild(docLink);\n",
              "      }\n",
              "    </script>\n",
              "  </div>\n",
              "\n",
              "\n",
              "<div id=\"df-b38ea414-6054-4126-8180-0fce761f1acf\">\n",
              "  <button class=\"colab-df-quickchart\" onclick=\"quickchart('df-b38ea414-6054-4126-8180-0fce761f1acf')\"\n",
              "            title=\"Suggest charts\"\n",
              "            style=\"display:none;\">\n",
              "\n",
              "<svg xmlns=\"http://www.w3.org/2000/svg\" height=\"24px\"viewBox=\"0 0 24 24\"\n",
              "     width=\"24px\">\n",
              "    <g>\n",
              "        <path d=\"M19 3H5c-1.1 0-2 .9-2 2v14c0 1.1.9 2 2 2h14c1.1 0 2-.9 2-2V5c0-1.1-.9-2-2-2zM9 17H7v-7h2v7zm4 0h-2V7h2v10zm4 0h-2v-4h2v4z\"/>\n",
              "    </g>\n",
              "</svg>\n",
              "  </button>\n",
              "\n",
              "<style>\n",
              "  .colab-df-quickchart {\n",
              "      --bg-color: #E8F0FE;\n",
              "      --fill-color: #1967D2;\n",
              "      --hover-bg-color: #E2EBFA;\n",
              "      --hover-fill-color: #174EA6;\n",
              "      --disabled-fill-color: #AAA;\n",
              "      --disabled-bg-color: #DDD;\n",
              "  }\n",
              "\n",
              "  [theme=dark] .colab-df-quickchart {\n",
              "      --bg-color: #3B4455;\n",
              "      --fill-color: #D2E3FC;\n",
              "      --hover-bg-color: #434B5C;\n",
              "      --hover-fill-color: #FFFFFF;\n",
              "      --disabled-bg-color: #3B4455;\n",
              "      --disabled-fill-color: #666;\n",
              "  }\n",
              "\n",
              "  .colab-df-quickchart {\n",
              "    background-color: var(--bg-color);\n",
              "    border: none;\n",
              "    border-radius: 50%;\n",
              "    cursor: pointer;\n",
              "    display: none;\n",
              "    fill: var(--fill-color);\n",
              "    height: 32px;\n",
              "    padding: 0;\n",
              "    width: 32px;\n",
              "  }\n",
              "\n",
              "  .colab-df-quickchart:hover {\n",
              "    background-color: var(--hover-bg-color);\n",
              "    box-shadow: 0 1px 2px rgba(60, 64, 67, 0.3), 0 1px 3px 1px rgba(60, 64, 67, 0.15);\n",
              "    fill: var(--button-hover-fill-color);\n",
              "  }\n",
              "\n",
              "  .colab-df-quickchart-complete:disabled,\n",
              "  .colab-df-quickchart-complete:disabled:hover {\n",
              "    background-color: var(--disabled-bg-color);\n",
              "    fill: var(--disabled-fill-color);\n",
              "    box-shadow: none;\n",
              "  }\n",
              "\n",
              "  .colab-df-spinner {\n",
              "    border: 2px solid var(--fill-color);\n",
              "    border-color: transparent;\n",
              "    border-bottom-color: var(--fill-color);\n",
              "    animation:\n",
              "      spin 1s steps(1) infinite;\n",
              "  }\n",
              "\n",
              "  @keyframes spin {\n",
              "    0% {\n",
              "      border-color: transparent;\n",
              "      border-bottom-color: var(--fill-color);\n",
              "      border-left-color: var(--fill-color);\n",
              "    }\n",
              "    20% {\n",
              "      border-color: transparent;\n",
              "      border-left-color: var(--fill-color);\n",
              "      border-top-color: var(--fill-color);\n",
              "    }\n",
              "    30% {\n",
              "      border-color: transparent;\n",
              "      border-left-color: var(--fill-color);\n",
              "      border-top-color: var(--fill-color);\n",
              "      border-right-color: var(--fill-color);\n",
              "    }\n",
              "    40% {\n",
              "      border-color: transparent;\n",
              "      border-right-color: var(--fill-color);\n",
              "      border-top-color: var(--fill-color);\n",
              "    }\n",
              "    60% {\n",
              "      border-color: transparent;\n",
              "      border-right-color: var(--fill-color);\n",
              "    }\n",
              "    80% {\n",
              "      border-color: transparent;\n",
              "      border-right-color: var(--fill-color);\n",
              "      border-bottom-color: var(--fill-color);\n",
              "    }\n",
              "    90% {\n",
              "      border-color: transparent;\n",
              "      border-bottom-color: var(--fill-color);\n",
              "    }\n",
              "  }\n",
              "</style>\n",
              "\n",
              "  <script>\n",
              "    async function quickchart(key) {\n",
              "      const quickchartButtonEl =\n",
              "        document.querySelector('#' + key + ' button');\n",
              "      quickchartButtonEl.disabled = true;  // To prevent multiple clicks.\n",
              "      quickchartButtonEl.classList.add('colab-df-spinner');\n",
              "      try {\n",
              "        const charts = await google.colab.kernel.invokeFunction(\n",
              "            'suggestCharts', [key], {});\n",
              "      } catch (error) {\n",
              "        console.error('Error during call to suggestCharts:', error);\n",
              "      }\n",
              "      quickchartButtonEl.classList.remove('colab-df-spinner');\n",
              "      quickchartButtonEl.classList.add('colab-df-quickchart-complete');\n",
              "    }\n",
              "    (() => {\n",
              "      let quickchartButtonEl =\n",
              "        document.querySelector('#df-b38ea414-6054-4126-8180-0fce761f1acf button');\n",
              "      quickchartButtonEl.style.display =\n",
              "        google.colab.kernel.accessAllowed ? 'block' : 'none';\n",
              "    })();\n",
              "  </script>\n",
              "</div>\n",
              "\n",
              "    </div>\n",
              "  </div>\n"
            ],
            "application/vnd.google.colaboratory.intrinsic+json": {
              "type": "dataframe",
              "summary": "{\n  \"name\": \"urls_data\",\n  \"rows\": 5,\n  \"fields\": [\n    {\n      \"column\": \"url\",\n      \"properties\": {\n        \"dtype\": \"string\",\n        \"num_unique_values\": 5,\n        \"samples\": [\n          \"ogj.com/articles/print/volume-104/issue-43/general-interest/company-news-shell-to-buy-out-shell-canada-for-77-billion-can.html\",\n          \"aviationpros.com/press_release/10390359/new-web-site-launched-for-charles-b-wheeler-downtown-airport\",\n          \"brokencontrollers.com/big-bang-exhibition-at-montreal-museum-of-fine-arts-proves-to-be-fine-theory-calgary-herald-t33094752.php\"\n        ],\n        \"semantic_type\": \"\",\n        \"description\": \"\"\n      }\n    },\n    {\n      \"column\": \"type\",\n      \"properties\": {\n        \"dtype\": \"category\",\n        \"num_unique_values\": 2,\n        \"samples\": [\n          \"benign\",\n          \"defacement\"\n        ],\n        \"semantic_type\": \"\",\n        \"description\": \"\"\n      }\n    }\n  ]\n}"
            }
          },
          "metadata": {},
          "execution_count": 5
        }
      ]
    },
    {
      "cell_type": "code",
      "source": [
        "def makeTokens(f):\n",
        "    tkns_BySlash = str(f.encode('utf-8')).split('/')\t# make tokens after splitting by slash\n",
        "    total_Tokens = []\n",
        "    for i in tkns_BySlash:\n",
        "        tokens = str(i).split('-')\t# make tokens after splitting by dash\n",
        "        tkns_ByDot = []\n",
        "        for j in range(0,len(tokens)):\n",
        "            temp_Tokens = str(tokens[j]).split('.')\t# make tokens after splitting by dot\n",
        "            tkns_ByDot = tkns_ByDot + temp_Tokens\n",
        "        total_Tokens = total_Tokens + tokens + tkns_ByDot\n",
        "    total_Tokens = list(set(total_Tokens))\t#remove redundant tokens\n",
        "    if 'com' in total_Tokens:\n",
        "        total_Tokens.remove('com')\t#removing .com since it occurs a lot of times and it should not be included in our features\n",
        "    if 'https://www.' in total_Tokens:\n",
        "        total_Tokens.remove('com')\n",
        "\n",
        "    return total_Tokens"
      ],
      "metadata": {
        "id": "sAzRZtSSqJ82"
      },
      "execution_count": null,
      "outputs": []
    },
    {
      "cell_type": "code",
      "source": [
        "y = urls_data[\"type\"]\n",
        "url_list = urls_data[\"url\"]"
      ],
      "metadata": {
        "id": "-CiKKIN1qd4c"
      },
      "execution_count": null,
      "outputs": []
    },
    {
      "cell_type": "code",
      "source": [
        "vectorizer = TfidfVectorizer(tokenizer=makeTokens)"
      ],
      "metadata": {
        "id": "sAveLXpDqlQX"
      },
      "execution_count": null,
      "outputs": []
    },
    {
      "cell_type": "code",
      "source": [
        "X = vectorizer.fit_transform(url_list)"
      ],
      "metadata": {
        "id": "5Mo6JeiPqnd9"
      },
      "execution_count": null,
      "outputs": []
    },
    {
      "cell_type": "code",
      "source": [
        "X_train, X_test, y_train, y_test = train_test_split(X, y, test_size=0.2, random_state=434)"
      ],
      "metadata": {
        "id": "WIcg5jpFrARS"
      },
      "execution_count": null,
      "outputs": []
    },
    {
      "cell_type": "code",
      "source": [
        "print(X_train)"
      ],
      "metadata": {
        "id": "QSspbxJFr1Uo",
        "colab": {
          "base_uri": "https://localhost:8080/"
        },
        "outputId": "484d6966-d2f8-4585-c8b6-fbeba87f90b2"
      },
      "execution_count": null,
      "outputs": [
        {
          "output_type": "stream",
          "name": "stdout",
          "text": [
            "  (0, 279290)\t0.3106117799651131\n",
            "  (0, 279281)\t0.307881282347145\n",
            "  (0, 682663)\t0.26747107350840715\n",
            "  (0, 964333)\t0.3243794045389652\n",
            "  (0, 672985)\t0.5621239475749047\n",
            "  (0, 682753)\t0.5621239475749047\n",
            "  (1, 528949)\t0.33279689897253434\n",
            "  (1, 367279)\t0.3693132792595551\n",
            "  (1, 367280)\t0.3693132792595551\n",
            "  (1, 80239)\t0.7851507037246879\n",
            "  (2, 0)\t0.09750961888670918\n",
            "  (2, 316230)\t0.10266037826650727\n",
            "  (2, 108593)\t0.29507399110729615\n",
            "  (2, 51996)\t0.3732242214921766\n",
            "  (2, 52701)\t0.4171201075172005\n",
            "  (2, 988716)\t0.42011417620370095\n",
            "  (2, 68288)\t0.367653379324439\n",
            "  (2, 108658)\t0.5176230566263073\n",
            "  (3, 0)\t0.07998552872050192\n",
            "  (3, 316230)\t0.08421061150729753\n",
            "  (3, 691071)\t0.11285738019948456\n",
            "  (3, 1076528)\t0.11227113105027868\n",
            "  (3, 580596)\t0.16282201304398028\n",
            "  (3, 626205)\t0.31264213585593975\n",
            "  (3, 812772)\t0.35281940044839744\n",
            "  :\t:\n",
            "  (520948, 0)\t0.08997964841789556\n",
            "  (520948, 8533)\t0.10246473788357835\n",
            "  (520948, 1074608)\t0.21618236802693877\n",
            "  (520948, 578061)\t0.29766798690803303\n",
            "  (520948, 264747)\t0.5402848686459247\n",
            "  (520948, 264746)\t0.5402848686459247\n",
            "  (520948, 10146)\t0.5121016648185567\n",
            "  (520949, 865842)\t0.1879087382126359\n",
            "  (520949, 304529)\t0.4258267335941616\n",
            "  (520949, 304528)\t0.4258267335941616\n",
            "  (520949, 562494)\t0.34728672516520875\n",
            "  (520949, 787033)\t0.43948378518511944\n",
            "  (520949, 787036)\t0.536916590449367\n",
            "  (520950, 1085760)\t0.2992585042733464\n",
            "  (520950, 221093)\t0.3451038449233437\n",
            "  (520950, 221106)\t0.4011548908640164\n",
            "  (520950, 931496)\t0.3701419337501292\n",
            "  (520950, 731406)\t0.7024367489353034\n",
            "  (520951, 691071)\t0.12491095752443014\n",
            "  (520951, 670681)\t0.16243807231799806\n",
            "  (520951, 689235)\t0.22666620975446242\n",
            "  (520951, 692112)\t0.25316679816886617\n",
            "  (520951, 420547)\t0.5477902480931235\n",
            "  (520951, 420545)\t0.4923330328147423\n",
            "  (520951, 984508)\t0.5477902480931235\n"
          ]
        }
      ]
    },
    {
      "cell_type": "code",
      "source": [
        "print(y_train)"
      ],
      "metadata": {
        "colab": {
          "base_uri": "https://localhost:8080/"
        },
        "id": "LnHHqDbDr3_Y",
        "outputId": "b506d81c-8e58-44a1-d555-9c1421474de7"
      },
      "execution_count": null,
      "outputs": [
        {
          "output_type": "stream",
          "name": "stdout",
          "text": [
            "231701        benign\n",
            "397789        benign\n",
            "537132       malware\n",
            "83422     defacement\n",
            "67928     defacement\n",
            "             ...    \n",
            "406688        benign\n",
            "560778        benign\n",
            "416304        benign\n",
            "108651        benign\n",
            "576075        benign\n",
            "Name: type, Length: 520952, dtype: object\n"
          ]
        }
      ]
    },
    {
      "cell_type": "code",
      "source": [
        "# Model Building\n",
        "#using logistic regression\n",
        "logit = LogisticRegression()\n",
        "logit.fit(X_train, y_train)"
      ],
      "metadata": {
        "id": "DIvcKRJHrkVp"
      },
      "execution_count": null,
      "outputs": []
    },
    {
      "cell_type": "code",
      "source": [
        "# Accuracy of Our Model\n",
        "print(\"Accuracy \",logit.score(X_test, y_test))"
      ],
      "metadata": {
        "id": "NPJKARTzrkbm"
      },
      "execution_count": null,
      "outputs": []
    },
    {
      "cell_type": "code",
      "source": [
        "svm_model = SVC(gamma='scale',random_state=12345,C=79)\n",
        "svm_model.fit(X_train,y_train)\n",
        "print(svm_model.score(X_test, y_test))"
      ],
      "metadata": {
        "id": "2n8z11v9rIVJ"
      },
      "execution_count": null,
      "outputs": []
    },
    {
      "cell_type": "code",
      "source": [
        "svm_model.score(X_test,y_test)"
      ],
      "metadata": {
        "id": "t_3v7rM_ubNT"
      },
      "execution_count": null,
      "outputs": []
    }
  ]
}
